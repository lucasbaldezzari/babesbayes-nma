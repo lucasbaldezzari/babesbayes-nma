{
 "cells": [
  {
   "cell_type": "markdown",
   "metadata": {},
   "source": [
    "# Chloe idea - [Issue #1](https://github.com/lucasbaldezzari/babesbayes-nma/issues/1)\n",
    "\n",
    "> For each run ID> use prior mean & prior std to calculate the \"range\" for the run, the constraints on where the angle can appear > binary filter on the participants' response within that run (0= inside the \"range\", 1 = outside the \"range\") > raster plot over the time within the run to determine when participant learns the constraints of that particular run\n",
    "\n",
    "---"
   ]
  },
  {
   "cell_type": "code",
   "execution_count": 1,
   "metadata": {},
   "outputs": [],
   "source": [
    "##importing libraries\n",
    "import numpy as np\n",
    "import matplotlib.pyplot as plt\n",
    "import pandas as pd\n",
    "import os, requests\n",
    "from numpy import pi\n",
    "import seaborn as sns\n",
    "\n",
    "from utils import getSubjecBasicStats"
   ]
  },
  {
   "cell_type": "code",
   "execution_count": 2,
   "metadata": {},
   "outputs": [],
   "source": [
    "data = pd.read_csv(\"dataset\\\\data01_direction4priors.csv\")\n",
    "# data.head()"
   ]
  },
  {
   "cell_type": "markdown",
   "metadata": {},
   "source": [
    "### Working with subject 6"
   ]
  },
  {
   "cell_type": "code",
   "execution_count": 3,
   "metadata": {},
   "outputs": [],
   "source": [
    "subject_id = 6\n",
    "\n",
    "data_s6 = data.loc[data['subject_id'] == subject_id]"
   ]
  },
  {
   "cell_type": "code",
   "execution_count": 4,
   "metadata": {},
   "outputs": [
    {
     "data": {
      "text/html": [
       "<div>\n",
       "<style scoped>\n",
       "    .dataframe tbody tr th:only-of-type {\n",
       "        vertical-align: middle;\n",
       "    }\n",
       "\n",
       "    .dataframe tbody tr th {\n",
       "        vertical-align: top;\n",
       "    }\n",
       "\n",
       "    .dataframe thead th {\n",
       "        text-align: right;\n",
       "    }\n",
       "</style>\n",
       "<table border=\"1\" class=\"dataframe\">\n",
       "  <thead>\n",
       "    <tr style=\"text-align: right;\">\n",
       "      <th></th>\n",
       "      <th>trial_index</th>\n",
       "      <th>trial_time</th>\n",
       "      <th>response_arrow_start_angle</th>\n",
       "      <th>motion_direction</th>\n",
       "      <th>motion_coherence</th>\n",
       "      <th>estimate_x</th>\n",
       "      <th>estimate_y</th>\n",
       "      <th>reaction_time</th>\n",
       "      <th>raw_response_time</th>\n",
       "      <th>prior_std</th>\n",
       "      <th>prior_mean</th>\n",
       "      <th>subject_id</th>\n",
       "      <th>experiment_id</th>\n",
       "      <th>session_id</th>\n",
       "      <th>run_id</th>\n",
       "    </tr>\n",
       "  </thead>\n",
       "  <tbody>\n",
       "    <tr>\n",
       "      <th>count</th>\n",
       "      <td>7553.000000</td>\n",
       "      <td>7553.000000</td>\n",
       "      <td>7553.000000</td>\n",
       "      <td>7553.000000</td>\n",
       "      <td>7553.000000</td>\n",
       "      <td>7553.000000</td>\n",
       "      <td>7553.000000</td>\n",
       "      <td>7553.000000</td>\n",
       "      <td>7553.000000</td>\n",
       "      <td>7553.000000</td>\n",
       "      <td>7553.0</td>\n",
       "      <td>7553.0</td>\n",
       "      <td>7553.0</td>\n",
       "      <td>7553.000000</td>\n",
       "      <td>7553.000000</td>\n",
       "    </tr>\n",
       "    <tr>\n",
       "      <th>mean</th>\n",
       "      <td>108.661724</td>\n",
       "      <td>309.325031</td>\n",
       "      <td>179.981067</td>\n",
       "      <td>216.992586</td>\n",
       "      <td>0.110936</td>\n",
       "      <td>-1.045612</td>\n",
       "      <td>-0.946761</td>\n",
       "      <td>1.333163</td>\n",
       "      <td>311.954266</td>\n",
       "      <td>46.830399</td>\n",
       "      <td>225.0</td>\n",
       "      <td>6.0</td>\n",
       "      <td>12.0</td>\n",
       "      <td>4.000000</td>\n",
       "      <td>18.007017</td>\n",
       "    </tr>\n",
       "    <tr>\n",
       "      <th>std</th>\n",
       "      <td>62.745776</td>\n",
       "      <td>180.027234</td>\n",
       "      <td>104.666585</td>\n",
       "      <td>57.608262</td>\n",
       "      <td>0.063919</td>\n",
       "      <td>1.347272</td>\n",
       "      <td>1.563893</td>\n",
       "      <td>0.359714</td>\n",
       "      <td>180.002593</td>\n",
       "      <td>29.726685</td>\n",
       "      <td>0.0</td>\n",
       "      <td>0.0</td>\n",
       "      <td>0.0</td>\n",
       "      <td>2.000132</td>\n",
       "      <td>10.098316</td>\n",
       "    </tr>\n",
       "    <tr>\n",
       "      <th>min</th>\n",
       "      <td>1.000000</td>\n",
       "      <td>0.000000</td>\n",
       "      <td>0.000000</td>\n",
       "      <td>5.000000</td>\n",
       "      <td>0.060000</td>\n",
       "      <td>-2.500000</td>\n",
       "      <td>-2.499999</td>\n",
       "      <td>0.226008</td>\n",
       "      <td>2.154724</td>\n",
       "      <td>10.000000</td>\n",
       "      <td>225.0</td>\n",
       "      <td>6.0</td>\n",
       "      <td>12.0</td>\n",
       "      <td>1.000000</td>\n",
       "      <td>1.000000</td>\n",
       "    </tr>\n",
       "    <tr>\n",
       "      <th>25%</th>\n",
       "      <td>54.000000</td>\n",
       "      <td>153.569935</td>\n",
       "      <td>87.000000</td>\n",
       "      <td>205.000000</td>\n",
       "      <td>0.060000</td>\n",
       "      <td>-2.067683</td>\n",
       "      <td>-2.190949</td>\n",
       "      <td>1.051133</td>\n",
       "      <td>156.578177</td>\n",
       "      <td>20.000000</td>\n",
       "      <td>225.0</td>\n",
       "      <td>6.0</td>\n",
       "      <td>12.0</td>\n",
       "      <td>2.000000</td>\n",
       "      <td>9.000000</td>\n",
       "    </tr>\n",
       "    <tr>\n",
       "      <th>50%</th>\n",
       "      <td>108.000000</td>\n",
       "      <td>309.394858</td>\n",
       "      <td>181.000000</td>\n",
       "      <td>225.000000</td>\n",
       "      <td>0.120000</td>\n",
       "      <td>-1.483085</td>\n",
       "      <td>-1.583259</td>\n",
       "      <td>1.274959</td>\n",
       "      <td>311.930449</td>\n",
       "      <td>40.000000</td>\n",
       "      <td>225.0</td>\n",
       "      <td>6.0</td>\n",
       "      <td>12.0</td>\n",
       "      <td>4.000000</td>\n",
       "      <td>18.000000</td>\n",
       "    </tr>\n",
       "    <tr>\n",
       "      <th>75%</th>\n",
       "      <td>162.000000</td>\n",
       "      <td>463.135354</td>\n",
       "      <td>272.000000</td>\n",
       "      <td>245.000000</td>\n",
       "      <td>0.120000</td>\n",
       "      <td>-0.396685</td>\n",
       "      <td>-0.012798</td>\n",
       "      <td>1.557451</td>\n",
       "      <td>465.658664</td>\n",
       "      <td>80.000000</td>\n",
       "      <td>225.0</td>\n",
       "      <td>6.0</td>\n",
       "      <td>12.0</td>\n",
       "      <td>6.000000</td>\n",
       "      <td>27.000000</td>\n",
       "    </tr>\n",
       "    <tr>\n",
       "      <th>max</th>\n",
       "      <td>226.000000</td>\n",
       "      <td>692.979736</td>\n",
       "      <td>359.000000</td>\n",
       "      <td>355.000000</td>\n",
       "      <td>0.240000</td>\n",
       "      <td>2.499999</td>\n",
       "      <td>2.499999</td>\n",
       "      <td>3.542557</td>\n",
       "      <td>695.325845</td>\n",
       "      <td>80.000000</td>\n",
       "      <td>225.0</td>\n",
       "      <td>6.0</td>\n",
       "      <td>12.0</td>\n",
       "      <td>7.000000</td>\n",
       "      <td>35.000000</td>\n",
       "    </tr>\n",
       "  </tbody>\n",
       "</table>\n",
       "</div>"
      ],
      "text/plain": [
       "       trial_index   trial_time  ...   session_id       run_id\n",
       "count  7553.000000  7553.000000  ...  7553.000000  7553.000000\n",
       "mean    108.661724   309.325031  ...     4.000000    18.007017\n",
       "std      62.745776   180.027234  ...     2.000132    10.098316\n",
       "min       1.000000     0.000000  ...     1.000000     1.000000\n",
       "25%      54.000000   153.569935  ...     2.000000     9.000000\n",
       "50%     108.000000   309.394858  ...     4.000000    18.000000\n",
       "75%     162.000000   463.135354  ...     6.000000    27.000000\n",
       "max     226.000000   692.979736  ...     7.000000    35.000000\n",
       "\n",
       "[8 rows x 15 columns]"
      ]
     },
     "execution_count": 4,
     "metadata": {},
     "output_type": "execute_result"
    }
   ],
   "source": [
    "# data_s6.info()\n",
    "data_s6.describe()"
   ]
  },
  {
   "cell_type": "markdown",
   "metadata": {},
   "source": [
    "### Creating ranges from reaction time\n",
    "\n",
    "I will take the *reaction_time* column and make ranges from 0 to max value with steps of 0.25 seconds.\n",
    "\n",
    "I will use [pandas.cut](https://pandas.pydata.org/docs/reference/api/pandas.cut.html)"
   ]
  },
  {
   "cell_type": "code",
   "execution_count": 5,
   "metadata": {},
   "outputs": [
    {
     "data": {
      "text/plain": [
       "array([0.  , 0.25, 0.5 , 0.75, 1.  , 1.25, 1.5 , 1.75, 2.  , 2.25, 2.5 ,\n",
       "       2.75, 3.  , 3.25, 3.5 ])"
      ]
     },
     "execution_count": 5,
     "metadata": {},
     "output_type": "execute_result"
    }
   ],
   "source": [
    "ranges = np.arange(0, data_s6['reaction_time'].max(), 0.25)\n",
    "ranges"
   ]
  },
  {
   "cell_type": "code",
   "execution_count": 6,
   "metadata": {},
   "outputs": [
    {
     "name": "stdout",
     "output_type": "stream",
     "text": [
      "The ranges in secs are:\n",
      "0.0 0.25 0.5 0.75 1.0 1.25 1.5 1.75 2.0 2.25 2.5 2.75 3.0 3.25 3.5\n"
     ]
    },
    {
     "name": "stderr",
     "output_type": "stream",
     "text": [
      "C:\\Users\\corre\\AppData\\Local\\Temp\\ipykernel_17604\\313748483.py:4: SettingWithCopyWarning: \n",
      "A value is trying to be set on a copy of a slice from a DataFrame.\n",
      "Try using .loc[row_indexer,col_indexer] = value instead\n",
      "\n",
      "See the caveats in the documentation: https://pandas.pydata.org/pandas-docs/stable/user_guide/indexing.html#returning-a-view-versus-a-copy\n",
      "  data_s6.loc[:,'reaction_time_range'] = pd.cut(data_s6['reaction_time'], bins=ranges, labels=False)+1\n"
     ]
    }
   ],
   "source": [
    "ranges = np.arange(0, data_s6['reaction_time'].max(), 0.25)\n",
    "print(\"The ranges in secs are:\")\n",
    "print(*ranges)\n",
    "data_s6.loc[:,'reaction_time_range'] = pd.cut(data_s6['reaction_time'], bins=ranges, labels=False)+1"
   ]
  },
  {
   "cell_type": "code",
   "execution_count": 7,
   "metadata": {},
   "outputs": [
    {
     "data": {
      "text/plain": [
       "reaction_time_range\n",
       "1.0        1\n",
       "3.0       68\n",
       "4.0     1349\n",
       "5.0     2178\n",
       "6.0     1735\n",
       "7.0     1218\n",
       "8.0      610\n",
       "9.0      285\n",
       "10.0      78\n",
       "11.0      27\n",
       "12.0       3\n",
       "Name: count, dtype: int64"
      ]
     },
     "execution_count": 7,
     "metadata": {},
     "output_type": "execute_result"
    }
   ],
   "source": [
    "##counting the number of values in each range\n",
    "data_s6.loc[:,'reaction_time_range'].value_counts().sort_index()"
   ]
  },
  {
   "cell_type": "code",
   "execution_count": 8,
   "metadata": {},
   "outputs": [
    {
     "data": {
      "text/plain": [
       "Index([1, 3, 4, 5, 6, 7, 8, 9, 10, 11, 12], dtype='int32', name='reaction_time_range')"
      ]
     },
     "execution_count": 8,
     "metadata": {},
     "output_type": "execute_result"
    }
   ],
   "source": [
    "indexes = data_s6.loc[:,'reaction_time_range'].value_counts().sort_index().index.astype(int)\n",
    "x_labels = ranges[indexes]\n",
    "indexes\n"
   ]
  },
  {
   "cell_type": "code",
   "execution_count": 9,
   "metadata": {},
   "outputs": [
    {
     "data": {
      "text/plain": [
       "reaction_time_range\n",
       "5.0     2178\n",
       "6.0     1735\n",
       "4.0     1349\n",
       "7.0     1218\n",
       "8.0      610\n",
       "9.0      285\n",
       "10.0      78\n",
       "3.0       68\n",
       "11.0      27\n",
       "12.0       3\n",
       "1.0        1\n",
       "Name: count, dtype: int64"
      ]
     },
     "execution_count": 9,
     "metadata": {},
     "output_type": "execute_result"
    }
   ],
   "source": [
    "data_s6.loc[data_s6['reaction_time_range'].isin(indexes)]['reaction_time_range'].value_counts()"
   ]
  },
  {
   "cell_type": "code",
   "execution_count": 10,
   "metadata": {},
   "outputs": [
    {
     "data": {
      "image/png": "[encoded data removed]",
      "text/plain": [
       "<Figure size 1000x600 with 1 Axes>"
      ]
     },
     "metadata": {},
     "output_type": "display_data"
    }
   ],
   "source": [
    "plt.figure(figsize=(10, 6))\n",
    "sns.countplot(data=data_s6.loc[data_s6['reaction_time_range'].isin(indexes)], x='reaction_time_range')\n",
    "plt.title('Reaction Time Distribution')\n",
    "plt.xlabel('Reaction Time Range')\n",
    "plt.ylabel('Frequency')\n",
    "plt.xticks(ticks=range(len(x_labels)), labels=x_labels, rotation=0)\n",
    "plt.show()"
   ]
  },
  {
   "cell_type": "markdown",
   "metadata": {},
   "source": [
    "### Getting angles from $x$ and $y$ coordinates"
   ]
  },
  {
   "cell_type": "code",
   "execution_count": 11,
   "metadata": {},
   "outputs": [
    {
     "name": "stderr",
     "output_type": "stream",
     "text": [
      "C:\\Users\\corre\\AppData\\Local\\Temp\\ipykernel_17604\\612046442.py:5: SettingWithCopyWarning: \n",
      "A value is trying to be set on a copy of a slice from a DataFrame.\n",
      "Try using .loc[row_indexer,col_indexer] = value instead\n",
      "\n",
      "See the caveats in the documentation: https://pandas.pydata.org/pandas-docs/stable/user_guide/indexing.html#returning-a-view-versus-a-copy\n",
      "  data_s6.loc[:,'estimate_angles'] = getAngles(x, y)\n"
     ]
    }
   ],
   "source": [
    "from utils import getAngles\n",
    "x = data_s6['estimate_x'].values\n",
    "y = data_s6['estimate_y'].values\n",
    "##using estimate_x and estimate_y to calculate the angle\n",
    "data_s6.loc[:,'estimate_angles'] = getAngles(x, y)\n",
    "##limit the angles between 0 and 359 using %360\n",
    "data_s6.loc[:,'estimate_angles'] = data_s6['estimate_angles'] % 360"
   ]
  },
  {
   "cell_type": "code",
   "execution_count": 12,
   "metadata": {},
   "outputs": [
    {
     "name": "stdout",
     "output_type": "stream",
     "text": [
      "359.9596407503122 0.3680817241476178\n"
     ]
    }
   ],
   "source": [
    "print(data_s6.loc[:,'estimate_angles'].max(), data_s6.loc[:,'estimate_angles'].min())"
   ]
  },
  {
   "cell_type": "code",
   "execution_count": 13,
   "metadata": {},
   "outputs": [
    {
     "data": {
      "text/html": [
       "<div>\n",
       "<style scoped>\n",
       "    .dataframe tbody tr th:only-of-type {\n",
       "        vertical-align: middle;\n",
       "    }\n",
       "\n",
       "    .dataframe tbody tr th {\n",
       "        vertical-align: top;\n",
       "    }\n",
       "\n",
       "    .dataframe thead th {\n",
       "        text-align: right;\n",
       "    }\n",
       "</style>\n",
       "<table border=\"1\" class=\"dataframe\">\n",
       "  <thead>\n",
       "    <tr style=\"text-align: right;\">\n",
       "      <th></th>\n",
       "      <th>trial_index</th>\n",
       "      <th>trial_time</th>\n",
       "      <th>response_arrow_start_angle</th>\n",
       "      <th>motion_direction</th>\n",
       "      <th>motion_coherence</th>\n",
       "      <th>estimate_x</th>\n",
       "      <th>estimate_y</th>\n",
       "      <th>reaction_time</th>\n",
       "      <th>raw_response_time</th>\n",
       "      <th>prior_std</th>\n",
       "      <th>prior_mean</th>\n",
       "      <th>subject_id</th>\n",
       "      <th>experiment_id</th>\n",
       "      <th>session_id</th>\n",
       "      <th>run_id</th>\n",
       "      <th>reaction_time_range</th>\n",
       "      <th>estimate_angles</th>\n",
       "    </tr>\n",
       "  </thead>\n",
       "  <tbody>\n",
       "    <tr>\n",
       "      <th>count</th>\n",
       "      <td>7553.000000</td>\n",
       "      <td>7553.000000</td>\n",
       "      <td>7553.000000</td>\n",
       "      <td>7553.000000</td>\n",
       "      <td>7553.000000</td>\n",
       "      <td>7553.000000</td>\n",
       "      <td>7553.000000</td>\n",
       "      <td>7553.000000</td>\n",
       "      <td>7553.000000</td>\n",
       "      <td>7553.000000</td>\n",
       "      <td>7553.0</td>\n",
       "      <td>7553.0</td>\n",
       "      <td>7553.0</td>\n",
       "      <td>7553.000000</td>\n",
       "      <td>7553.000000</td>\n",
       "      <td>7552.000000</td>\n",
       "      <td>7553.000000</td>\n",
       "    </tr>\n",
       "    <tr>\n",
       "      <th>mean</th>\n",
       "      <td>108.661724</td>\n",
       "      <td>309.325031</td>\n",
       "      <td>179.981067</td>\n",
       "      <td>216.992586</td>\n",
       "      <td>0.110936</td>\n",
       "      <td>-1.045612</td>\n",
       "      <td>-0.946761</td>\n",
       "      <td>1.333163</td>\n",
       "      <td>311.954266</td>\n",
       "      <td>46.830399</td>\n",
       "      <td>225.0</td>\n",
       "      <td>6.0</td>\n",
       "      <td>12.0</td>\n",
       "      <td>4.000000</td>\n",
       "      <td>18.007017</td>\n",
       "      <td>5.824285</td>\n",
       "      <td>207.073506</td>\n",
       "    </tr>\n",
       "    <tr>\n",
       "      <th>std</th>\n",
       "      <td>62.745776</td>\n",
       "      <td>180.027234</td>\n",
       "      <td>104.666585</td>\n",
       "      <td>57.608262</td>\n",
       "      <td>0.063919</td>\n",
       "      <td>1.347272</td>\n",
       "      <td>1.563893</td>\n",
       "      <td>0.359714</td>\n",
       "      <td>180.002593</td>\n",
       "      <td>29.726685</td>\n",
       "      <td>0.0</td>\n",
       "      <td>0.0</td>\n",
       "      <td>0.0</td>\n",
       "      <td>2.000132</td>\n",
       "      <td>10.098316</td>\n",
       "      <td>1.466160</td>\n",
       "      <td>67.759132</td>\n",
       "    </tr>\n",
       "    <tr>\n",
       "      <th>min</th>\n",
       "      <td>1.000000</td>\n",
       "      <td>0.000000</td>\n",
       "      <td>0.000000</td>\n",
       "      <td>5.000000</td>\n",
       "      <td>0.060000</td>\n",
       "      <td>-2.500000</td>\n",
       "      <td>-2.499999</td>\n",
       "      <td>0.226008</td>\n",
       "      <td>2.154724</td>\n",
       "      <td>10.000000</td>\n",
       "      <td>225.0</td>\n",
       "      <td>6.0</td>\n",
       "      <td>12.0</td>\n",
       "      <td>1.000000</td>\n",
       "      <td>1.000000</td>\n",
       "      <td>1.000000</td>\n",
       "      <td>0.368082</td>\n",
       "    </tr>\n",
       "    <tr>\n",
       "      <th>25%</th>\n",
       "      <td>54.000000</td>\n",
       "      <td>153.569935</td>\n",
       "      <td>87.000000</td>\n",
       "      <td>205.000000</td>\n",
       "      <td>0.060000</td>\n",
       "      <td>-2.067683</td>\n",
       "      <td>-2.190949</td>\n",
       "      <td>1.051133</td>\n",
       "      <td>156.578177</td>\n",
       "      <td>20.000000</td>\n",
       "      <td>225.0</td>\n",
       "      <td>6.0</td>\n",
       "      <td>12.0</td>\n",
       "      <td>2.000000</td>\n",
       "      <td>9.000000</td>\n",
       "      <td>5.000000</td>\n",
       "      <td>180.372030</td>\n",
       "    </tr>\n",
       "    <tr>\n",
       "      <th>50%</th>\n",
       "      <td>108.000000</td>\n",
       "      <td>309.394858</td>\n",
       "      <td>181.000000</td>\n",
       "      <td>225.000000</td>\n",
       "      <td>0.120000</td>\n",
       "      <td>-1.483085</td>\n",
       "      <td>-1.583259</td>\n",
       "      <td>1.274959</td>\n",
       "      <td>311.930449</td>\n",
       "      <td>40.000000</td>\n",
       "      <td>225.0</td>\n",
       "      <td>6.0</td>\n",
       "      <td>12.0</td>\n",
       "      <td>4.000000</td>\n",
       "      <td>18.000000</td>\n",
       "      <td>6.000000</td>\n",
       "      <td>221.624991</td>\n",
       "    </tr>\n",
       "    <tr>\n",
       "      <th>75%</th>\n",
       "      <td>162.000000</td>\n",
       "      <td>463.135354</td>\n",
       "      <td>272.000000</td>\n",
       "      <td>245.000000</td>\n",
       "      <td>0.120000</td>\n",
       "      <td>-0.396685</td>\n",
       "      <td>-0.012798</td>\n",
       "      <td>1.557451</td>\n",
       "      <td>465.658664</td>\n",
       "      <td>80.000000</td>\n",
       "      <td>225.0</td>\n",
       "      <td>6.0</td>\n",
       "      <td>12.0</td>\n",
       "      <td>6.000000</td>\n",
       "      <td>27.000000</td>\n",
       "      <td>7.000000</td>\n",
       "      <td>247.041329</td>\n",
       "    </tr>\n",
       "    <tr>\n",
       "      <th>max</th>\n",
       "      <td>226.000000</td>\n",
       "      <td>692.979736</td>\n",
       "      <td>359.000000</td>\n",
       "      <td>355.000000</td>\n",
       "      <td>0.240000</td>\n",
       "      <td>2.499999</td>\n",
       "      <td>2.499999</td>\n",
       "      <td>3.542557</td>\n",
       "      <td>695.325845</td>\n",
       "      <td>80.000000</td>\n",
       "      <td>225.0</td>\n",
       "      <td>6.0</td>\n",
       "      <td>12.0</td>\n",
       "      <td>7.000000</td>\n",
       "      <td>35.000000</td>\n",
       "      <td>12.000000</td>\n",
       "      <td>359.959641</td>\n",
       "    </tr>\n",
       "  </tbody>\n",
       "</table>\n",
       "</div>"
      ],
      "text/plain": [
       "       trial_index   trial_time  ...  reaction_time_range  estimate_angles\n",
       "count  7553.000000  7553.000000  ...          7552.000000      7553.000000\n",
       "mean    108.661724   309.325031  ...             5.824285       207.073506\n",
       "std      62.745776   180.027234  ...             1.466160        67.759132\n",
       "min       1.000000     0.000000  ...             1.000000         0.368082\n",
       "25%      54.000000   153.569935  ...             5.000000       180.372030\n",
       "50%     108.000000   309.394858  ...             6.000000       221.624991\n",
       "75%     162.000000   463.135354  ...             7.000000       247.041329\n",
       "max     226.000000   692.979736  ...            12.000000       359.959641\n",
       "\n",
       "[8 rows x 17 columns]"
      ]
     },
     "execution_count": 13,
     "metadata": {},
     "output_type": "execute_result"
    }
   ],
   "source": [
    "data_s6.describe()"
   ]
  },
  {
   "cell_type": "code",
   "execution_count": 14,
   "metadata": {},
   "outputs": [
    {
     "data": {
      "image/png": "[encoded data removed]",
      "text/plain": [
       "<Figure size 1000x600 with 1 Axes>"
      ]
     },
     "metadata": {},
     "output_type": "display_data"
    }
   ],
   "source": [
    "##plotting angle distribution\n",
    "plt.figure(figsize=(10,6))\n",
    "sns.histplot(data_s6['estimate_angles'], bins=50, kde=True, color='r', alpha=0.5)\n",
    "plt.title('Angle distribution for subject 6')\n",
    "plt.grid()\n",
    "plt.show()"
   ]
  },
  {
   "cell_type": "markdown",
   "metadata": {},
   "source": [
    "#### Making a new column from difference the motion_direction and estimate_angles "
   ]
  },
  {
   "cell_type": "code",
   "execution_count": 15,
   "metadata": {},
   "outputs": [
    {
     "name": "stderr",
     "output_type": "stream",
     "text": [
      "C:\\Users\\corre\\AppData\\Local\\Temp\\ipykernel_17604\\1168774008.py:2: SettingWithCopyWarning: \n",
      "A value is trying to be set on a copy of a slice from a DataFrame.\n",
      "Try using .loc[row_indexer,col_indexer] = value instead\n",
      "\n",
      "See the caveats in the documentation: https://pandas.pydata.org/pandas-docs/stable/user_guide/indexing.html#returning-a-view-versus-a-copy\n",
      "  data_s6.loc[:,'diff_angles'] = data_s6['motion_direction'] - data_s6['estimate_angles']\n"
     ]
    },
    {
     "data": {
      "text/plain": [
       "count    7553.000000\n",
       "mean        9.919080\n",
       "std        67.752337\n",
       "min      -354.278497\n",
       "25%       -18.130914\n",
       "50%         1.472490\n",
       "75%        22.627970\n",
       "max       353.721503\n",
       "Name: diff_angles, dtype: float64"
      ]
     },
     "execution_count": 15,
     "metadata": {},
     "output_type": "execute_result"
    }
   ],
   "source": [
    "# Making a new column from difference the motion_direction and estimate_angles \n",
    "data_s6.loc[:,'diff_angles'] = data_s6['motion_direction'] - data_s6['estimate_angles']\n",
    "data_s6.loc[:,'diff_angles'].describe()"
   ]
  },
  {
   "cell_type": "code",
   "execution_count": 16,
   "metadata": {},
   "outputs": [
    {
     "data": {
      "image/png": "[encoded data removed]",
      "text/plain": [
       "<Figure size 1000x600 with 1 Axes>"
      ]
     },
     "metadata": {},
     "output_type": "display_data"
    }
   ],
   "source": [
    "##plotting angle distribution\n",
    "plt.figure(figsize=(10,6))\n",
    "sns.histplot(data_s6['diff_angles'], bins=50, kde=True, color='#af0000', alpha=0.5)\n",
    "plt.title('Difference in angles from motion_direction and estimated angles')\n",
    "plt.grid()\n",
    "plt.show()"
   ]
  }
 ],
 "metadata": {
  "kernelspec": {
   "display_name": "pda",
   "language": "python",
   "name": "python3"
  },
  "language_info": {
   "codemirror_mode": {
    "name": "ipython",
    "version": 3
   },
   "file_extension": ".py",
   "mimetype": "text/x-python",
   "name": "python",
   "nbconvert_exporter": "python",
   "pygments_lexer": "ipython3",
   "version": "3.12.3"
  }
 },
 "nbformat": 4,
 "nbformat_minor": 2
}
